{
 "cells": [
  {
   "cell_type": "code",
   "execution_count": 1,
   "metadata": {},
   "outputs": [],
   "source": [
    "import requests\n",
    "import pandas as pd\n",
    "import numpy as np\n",
    "from tqdm import tqdm\n",
    "import matplotlib.pyplot as plt\n",
    "import yfinance as yf\n",
    "import datetime\n",
    "import sys"
   ]
  },
  {
   "cell_type": "code",
   "execution_count": 19,
   "metadata": {},
   "outputs": [],
   "source": [
    "class VolData:\n",
    "    def __init__(self, ticker, option_type='call', n=3):\n",
    "        self.ticker = ticker\n",
    "        self.option_type = option_type\n",
    "        self.n = n\n",
    "\n",
    "        \"\"\"\n",
    "        Initializing Class.\n",
    "        Parameters\n",
    "        ----------\n",
    "        ticker: string \n",
    "            The stock ticker of interest        \n",
    "        option_type: string\n",
    "            The type of option that will be used to visualize the volatility smile (\"call\" or \"put\")\n",
    "        n: integer\n",
    "            \"n\" represents number of options above and below at-the-money (ATM).\n",
    "             These options will be used to interpolate the ATM implied volatility term structure. \n",
    "             Assuming $1 strike differences, if n=3 and ATM=100, then the following strikes will\n",
    "             be used for calculating the implied volatility term structure:\n",
    "                 - lower ATM: 97, 98, 99\n",
    "                 - upper ATM: 101, 102, 103\n",
    "        \n",
    "        Example\n",
    "        ---------\n",
    "        >>> import yahoo_vol as yvol\n",
    "        >>> data = yvol.Options(ticker=\"AAPL\", n=3)\n",
    "        \"\"\"\n",
    "        \n",
    "\n",
    "    def get_input_data(self, save_csv=False):\n",
    "        \"\"\"\n",
    "        Intermediate function used to collect the pricing data for plotting purposes. \n",
    "        Parameter:\n",
    "        ------------\n",
    "        save_csv: boolean\n",
    "            Select True to save the options data to a csv file\n",
    "            \n",
    "        Returns\n",
    "        -------------\n",
    "        dataframe:\n",
    "            A dataframe with corresponding statistics for each option\n",
    "        csv:\n",
    "            A csv file will be saved if save_csv is set to True\n",
    "        Example\n",
    "        -------------\n",
    "        >>> df = data.get_input_data(save_csv=True)\n",
    "        \"\"\"\n",
    "        \n",
    "        storage = []\n",
    "        x = yf.Ticker(self.ticker)\n",
    "        option_dates = x.options\n",
    "        if len(option_dates) == 0:\n",
    "            sys.exit(\"Ticker does not have any options. Please try another ticker\")\n",
    "        for date in tqdm(option_dates):\n",
    "            try:\n",
    "                call, put = x.option_chain(date)[0], x.option_chain(date)[1]\n",
    "                call['option_type'], put['option_type'] = ('call', 'put')\n",
    "                d = pd.concat([call, put])\n",
    "                storage.append(d)\n",
    "            except:\n",
    "                pass\n",
    "        print(\"All option dates successfully downloaded: \", len(storage) == len(option_dates))\n",
    "        df = pd.concat(storage)\n",
    "        df = df.reset_index()\n",
    "        df['maturity'] = pd.DataFrame([i[-15:-9] for i in df.contractSymbol])\n",
    "        return df\n",
    "\n",
    "    def plot_vol_smile(self):\n",
    "        \"\"\"\n",
    "        A plotting function used to visualize the volatility smile for each option maturity by plotting\n",
    "        the raw implied volatility against the respective strike values. \n",
    "            \n",
    "        Returns\n",
    "        -------------\n",
    "        plt.plot figure:\n",
    "            A series of plots for each option maturity\n",
    "        Example\n",
    "        -------------\n",
    "        >>> data.plot_vol_smile()\n",
    "        \"\"\"\n",
    "        data = self.get_input_data()\n",
    "        # Extract unique option maturity dates\n",
    "        maturities = list(set(data.maturity))\n",
    "        maturities.sort()\n",
    "        # Loop through each maturity and plot the vol smile \n",
    "        for date in maturities:\n",
    "            temp = data[(data.maturity == date) & (data.option_type == self.option_type)]\n",
    "            title_date = datetime.date(2000 + int(date[:2]), int(date[2:4]), int(date[4:])).strftime(\"%B %d, %Y\")\n",
    "            plt.scatter(temp.strike, temp.impliedVolatility)\n",
    "            plt.title(self.ticker.upper() + \" \" + self.option_type.upper() + \": \" + title_date)\n",
    "            plt.ylabel(\"Implied Volatility\")\n",
    "            plt.xlabel(\"Strike\")\n",
    "            plt.show()\n",
    "\n",
    "\n",
    "    def plot_vol_term_structure(self):\n",
    "        data = self.get_input_data()\n",
    "        p = yf.Ticker(self.ticker).info\n",
    "        mid_price = (p['ask'] + p['bid'])/2\n",
    "        strikes = list(set(data.strike))\n",
    "        maturities = list(set(data.maturity))\n",
    "\n",
    "        get_closest_strike = min(range(len(strikes)), key=lambda i: abs(strikes[i]- mid_price))\n",
    "        closest_ATM_indexes = list(range(get_closest_strike - self.n,\n",
    "                                         get_closest_strike + self.n))\n",
    "        closest_ATM_strikes = [strikes[i] for i in closest_ATM_indexes]\n",
    "        storage = []\n",
    "        for date in maturities:\n",
    "            try: # NOTE - THE CALLS AND PUTS HERE ARE SEPERATED OUT - LOOK INTO HOW TO INCLUDE BOTH\n",
    "                temp = data[(data.maturity == date) & (data.option_type== self.option_type)]\n",
    "                storage.append(temp[temp['strike'].isin(closest_ATM_strikes)].mean()['impliedVolatility'])\n",
    "            except:\n",
    "                continue\n",
    "        df = pd.DataFrame([maturities, storage]).T\n",
    "        df = df.sort_values(0)\n",
    "        df = df.dropna()\n",
    "        plt.plot(df[0], df[1])\n",
    "        plt.show()"
   ]
  },
  {
   "cell_type": "code",
   "execution_count": 22,
   "metadata": {
    "scrolled": false
   },
   "outputs": [],
   "source": [
    "x = VolData(\"AAPL\", option_type='put')"
   ]
  },
  {
   "cell_type": "code",
   "execution_count": 27,
   "metadata": {},
   "outputs": [],
   "source": [
    "import yahoo_vol as yv"
   ]
  },
  {
   "cell_type": "code",
   "execution_count": 30,
   "metadata": {},
   "outputs": [],
   "source": [
    "x = yv.VolData(\"SPY\")"
   ]
  },
  {
   "cell_type": "code",
   "execution_count": 32,
   "metadata": {
    "scrolled": false
   },
   "outputs": [
    {
     "name": "stderr",
     "output_type": "stream",
     "text": [
      "100%|██████████| 34/34 [00:09<00:00,  3.61it/s]\n"
     ]
    }
   ],
   "source": [
    "df = x.get_input_data()"
   ]
  },
  {
   "cell_type": "code",
   "execution_count": 54,
   "metadata": {},
   "outputs": [
    {
     "data": {
      "text/plain": [
       "['220318',\n",
       " '200529',\n",
       " '200624',\n",
       " '201231',\n",
       " '201218',\n",
       " '201120',\n",
       " '200630',\n",
       " '210331',\n",
       " '200702',\n",
       " '200629',\n",
       " '200918',\n",
       " '200617',\n",
       " '210618',\n",
       " '200608',\n",
       " '200930',\n",
       " '211217',\n",
       " '200615',\n",
       " '200821',\n",
       " '221216',\n",
       " '200612',\n",
       " '200605',\n",
       " '200610',\n",
       " '200717',\n",
       " '220121',\n",
       " '201201',\n",
       " '200626',\n",
       " '200622',\n",
       " '200603',\n",
       " '210917',\n",
       " '210115',\n",
       " '200619',\n",
       " '210319',\n",
       " '201016',\n",
       " '200601']"
      ]
     },
     "execution_count": 54,
     "metadata": {},
     "output_type": "execute_result"
    }
   ],
   "source": [
    "list(set(df.maturity))"
   ]
  },
  {
   "cell_type": "code",
   "execution_count": 55,
   "metadata": {},
   "outputs": [],
   "source": [
    "extract = df[(df.maturity == '221216') & (df.option_type == 'call')]"
   ]
  },
  {
   "cell_type": "code",
   "execution_count": 56,
   "metadata": {},
   "outputs": [
    {
     "data": {
      "text/plain": [
       "<matplotlib.collections.PathCollection at 0x11be87310>"
      ]
     },
     "execution_count": 56,
     "metadata": {},
     "output_type": "execute_result"
    },
    {
     "data": {
      "image/png": "[encoded data removed]",
      "text/plain": [
       "<Figure size 432x288 with 1 Axes>"
      ]
     },
     "metadata": {
      "needs_background": "light"
     },
     "output_type": "display_data"
    }
   ],
   "source": [
    "plt.scatter(extract.strike, extract.impliedVolatility)"
   ]
  },
  {
   "cell_type": "code",
   "execution_count": 57,
   "metadata": {},
   "outputs": [
    {
     "data": {
      "text/plain": [
       "<matplotlib.axes._subplots.AxesSubplot at 0x11be91110>"
      ]
     },
     "execution_count": 57,
     "metadata": {},
     "output_type": "execute_result"
    },
    {
     "data": {
      "image/png": "[encoded data removed]",
      "text/plain": [
       "<Figure size 432x288 with 1 Axes>"
      ]
     },
     "metadata": {
      "needs_background": "light"
     },
     "output_type": "display_data"
    }
   ],
   "source": [
    "extract.impliedVolatility.plot()"
   ]
  },
  {
   "cell_type": "code",
   "execution_count": 53,
   "metadata": {},
   "outputs": [],
   "source": [
    "# note yfinance sometimes messes up the IV cals for all options"
   ]
  },
  {
   "cell_type": "code",
   "execution_count": null,
   "metadata": {},
   "outputs": [],
   "source": []
  }
 ],
 "metadata": {
  "kernelspec": {
   "display_name": "Python 3",
   "language": "python",
   "name": "python3"
  },
  "language_info": {
   "codemirror_mode": {
    "name": "ipython",
    "version": 3
   },
   "file_extension": ".py",
   "mimetype": "text/x-python",
   "name": "python",
   "nbconvert_exporter": "python",
   "pygments_lexer": "ipython3",
   "version": "3.7.4"
  }
 },
 "nbformat": 4,
 "nbformat_minor": 4
}
