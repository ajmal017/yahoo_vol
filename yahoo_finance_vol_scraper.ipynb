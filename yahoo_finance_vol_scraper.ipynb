{
 "cells": [
  {
   "cell_type": "code",
   "execution_count": null,
   "metadata": {},
   "outputs": [],
   "source": [
    "import requests\n",
    "import pandas as pd\n",
    "import numpy as np\n",
    "from tqdm import tqdm\n",
    "import matplotlib.pyplot as plt\n",
    "import yfinance as yf\n",
    "import datetime\n",
    "import sys"
   ]
  },
  {
   "cell_type": "markdown",
   "metadata": {},
   "source": [
    "GOAL FOR TDOAY -- TO DO:\n",
    "\n",
    "- Plot vol smile for each of the respective option maturities - including calls and puts?\n",
    "- Plot the vol term structure for a particular stock\n",
    "\n",
    "Stretch: \n",
    "- Extend this to crypto markets and clean up the EDA on Deribit section\n",
    "- Post the deribit EDA to the other github research notebook"
   ]
  },
  {
   "cell_type": "code",
   "execution_count": 37,
   "metadata": {},
   "outputs": [],
   "source": [
    "class Data:\n",
    "    def __init__(self, ticker, option_type='call', n=3):\n",
    "        self.ticker = ticker\n",
    "        self.option_type = option_type\n",
    "        self.n = n\n",
    "        \n",
    "    def get_input_data(self):\n",
    "        storage = []\n",
    "        x = yf.Ticker(self.ticker)\n",
    "        option_dates = x.options\n",
    "        if len(option_dates) == 0:\n",
    "            sys.exit(\"Ticker does not have any options. Please try another ticker\")\n",
    "            \n",
    "        for date in tqdm(option_dates):\n",
    "            try:\n",
    "                call, put = x.option_chain(date)[0], x.option_chain(date)[1]\n",
    "                call['option_type'], put['option_type'] = ('call', 'put')\n",
    "                d = pd.concat([call, put])\n",
    "                storage.append(d)\n",
    "            except:\n",
    "                pass\n",
    "        df = pd.concat(storage)\n",
    "        df = df.reset_index()\n",
    "        df['maturity'] = pd.DataFrame([i[-15:-9] for i in df.contractSymbol])\n",
    "        \n",
    "        return df\n",
    "    \n",
    "    def plot_vol_smile(self):\n",
    "        data = self.get_input_data()\n",
    "        maturities = list(set(data.maturity))\n",
    "        maturities.sort()\n",
    "        \n",
    "        for date in maturities:\n",
    "            temp = data[(data.maturity == date) & (data.option_type == self.option_type)]\n",
    "            \n",
    "            title_date = datetime.date(2000 + int(date[:2]), int(date[2:4]), int(date[4:])).strftime(\"%B %d, %Y\")\n",
    "            \n",
    "            plt.scatter(temp.strike, temp.impliedVolatility)\n",
    "            plt.title(self.ticker.upper() + \" \" + self.option_type.upper() + \": \" + title_date)\n",
    "            plt.ylabel(\"Implied Volatility\")\n",
    "            plt.xlabel(\"Strike\")\n",
    "            plt.show()\n",
    "        \n",
    "        '''\n",
    "        fig, axes = plt.subplots(nrows=round(len(maturities)/2) + 1, ncols=2, figsize=(15,30))\n",
    "        fig.subplots_adjust(hspace=0.5)\n",
    "\n",
    "        for ax, i, name, in zip(axes.flatten(), range(len(maturities)), maturities):\n",
    "            temp = z[(z.maturity == maturities[i]) & (z.type==self.option_type)]   \n",
    "            \n",
    "            \n",
    "            year = datetime.date(2000 + int(name[:2]), int(name[2:4]), int(name[4:])).strftime('%Y')\n",
    "            month = datetime.date(2000 + int(name[:2]), int(name[2:4]), int(name[4:])).strftime('%B')\n",
    "            day = int(name[4:])\n",
    "            \n",
    "            ax.scatter(temp.strike, temp.impliedVolatility)\n",
    "            ax.set(title = month, xlabel='Strike')\n",
    "        '''\n",
    "        \n",
    "        \n",
    "    def plot_vol_term_structure(self):\n",
    "        data = self.get_input_data()\n",
    "        p = yf.Ticker(self.ticker).info\n",
    "        mid_price = (p['ask'] + p['bid'])/2\n",
    "        strikes = list(set(data.strike))\n",
    "        maturities = list(set(data.maturity))\n",
    "\n",
    "        get_closest_strike = min(range(len(strikes)), key=lambda i: abs(strikes[i]- mid_price))\n",
    "        closest_ATM_indexes = list(range(get_closest_strike - self.n,\n",
    "                                         get_closest_strike + self.n))\n",
    "        closest_ATM_strikes = [strikes[i] for i in closest_ATM_indexes]\n",
    "        storage = []\n",
    "        for date in maturities:\n",
    "            try: # NOTE - THE CALLS AND PUTS HERE ARE SEPERATED OUT - LOOK INTO HOW TO INCLUDE BOTH\n",
    "                temp = data[(data.maturity == date) & (data.option_type== self.option_type)]\n",
    "                storage.append(temp[temp['strike'].isin(closest_ATM_strikes)].mean()['impliedVolatility'])\n",
    "            except:\n",
    "                continue\n",
    "        df = pd.DataFrame([maturities, storage]).T\n",
    "        df = df.sort_values(0)\n",
    "        df = df.dropna()\n",
    "        plt.plot(df[0], df[1])\n",
    "        plt.show()"
   ]
  },
  {
   "cell_type": "code",
   "execution_count": 38,
   "metadata": {},
   "outputs": [],
   "source": [
    "d = Data(\"aapl\", 'call', n=2)"
   ]
  },
  {
   "cell_type": "code",
   "execution_count": 39,
   "metadata": {},
   "outputs": [
    {
     "name": "stderr",
     "output_type": "stream",
     "text": [
      "100%|██████████| 15/15 [00:03<00:00,  4.60it/s]\n"
     ]
    },
    {
     "data": {
      "image/png": "[encoded data removed]",
      "text/plain": [
       "<Figure size 432x288 with 1 Axes>"
      ]
     },
     "metadata": {
      "needs_background": "light"
     },
     "output_type": "display_data"
    }
   ],
   "source": [
    "d.plot_vol_term_structure()"
   ]
  },
  {
   "cell_type": "code",
   "execution_count": null,
   "metadata": {},
   "outputs": [],
   "source": []
  },
  {
   "cell_type": "code",
   "execution_count": null,
   "metadata": {},
   "outputs": [],
   "source": []
  },
  {
   "cell_type": "code",
   "execution_count": null,
   "metadata": {},
   "outputs": [],
   "source": []
  },
  {
   "cell_type": "code",
   "execution_count": null,
   "metadata": {},
   "outputs": [],
   "source": []
  },
  {
   "cell_type": "code",
   "execution_count": null,
   "metadata": {},
   "outputs": [],
   "source": []
  },
  {
   "cell_type": "code",
   "execution_count": null,
   "metadata": {},
   "outputs": [],
   "source": []
  },
  {
   "cell_type": "code",
   "execution_count": null,
   "metadata": {
    "scrolled": false
   },
   "outputs": [],
   "source": []
  },
  {
   "cell_type": "code",
   "execution_count": null,
   "metadata": {},
   "outputs": [],
   "source": []
  },
  {
   "cell_type": "code",
   "execution_count": null,
   "metadata": {},
   "outputs": [],
   "source": []
  },
  {
   "cell_type": "code",
   "execution_count": null,
   "metadata": {},
   "outputs": [],
   "source": []
  },
  {
   "cell_type": "code",
   "execution_count": null,
   "metadata": {},
   "outputs": [],
   "source": [
    "class Data:\n",
    "    def __init__(self, ticker, n):\n",
    "        self.base_url = \"https://query2.finance.yahoo.com/v7/finance/options/\" + str(ticker)\n",
    "        self.n = n\n",
    "        \n",
    "    def get_input_data(self):\n",
    "        # Get required input data for the options values\n",
    "        r = requests.get(self.base_url).json()\n",
    "        data = r['optionChain']['result'][0]\n",
    "        dates = data['expirationDates']\n",
    "        strikes = data['strikes']\n",
    "        mid_price = np.mean([data['quote']['bid'], data['quote']['ask']])\n",
    "        \n",
    "        # Filter for closest ATM strikes\n",
    "        get_closest_strike = min(range(len(strikes)), key=lambda i: abs(strikes[i]- mid_price))\n",
    "        \n",
    "        closest_ATM_indexes = list(range(get_closest_strike - self.n, \n",
    "                                         get_closest_strike + self.n))\n",
    "        \n",
    "        closest_ATM_strikes = [strikes[i] for i in closest_ATM_indexes]\n",
    "        \n",
    "        return dates, closest_ATM_strikes\n",
    "\n",
    "    \n",
    "    def get_vol_data(self):\n",
    "        # Now iterate through each date and get the mean IV for the closest ATM strikes\n",
    "        dates = self.get_input_data()[0]\n",
    "        atm_strikes = self.get_input_data()[1]\n",
    "        key = ['calls', 'puts']\n",
    "        \n",
    "        mean_implied_vol = []\n",
    "        \n",
    "        for date in tqdm(dates):\n",
    "            try:\n",
    "                url = self.base_url + \"?date=\" + str(date)\n",
    "                print(date)\n",
    "                data = requests.get(url).json()['optionChain']['result'][0]['options'][0]\n",
    "                options = [data.get(key) for key in keys]\n",
    "                calls, puts = pd.DataFrame(options[0]), pd.DataFrame(options[1])\n",
    "                df = pd.concat([calls, puts], axis=0)\n",
    "                mean_implied_vol.append(df[df['strike'].isin(atm_strikes)].mean()['impliedVolatility'])\n",
    "            except:\n",
    "                continue\n",
    "\n",
    "        return dates, mean_implied_vol\n"
   ]
  },
  {
   "cell_type": "code",
   "execution_count": null,
   "metadata": {},
   "outputs": [],
   "source": []
  }
 ],
 "metadata": {
  "kernelspec": {
   "display_name": "Python 3",
   "language": "python",
   "name": "python3"
  },
  "language_info": {
   "codemirror_mode": {
    "name": "ipython",
    "version": 3
   },
   "file_extension": ".py",
   "mimetype": "text/x-python",
   "name": "python",
   "nbconvert_exporter": "python",
   "pygments_lexer": "ipython3",
   "version": "3.6.10"
  }
 },
 "nbformat": 4,
 "nbformat_minor": 2
}
